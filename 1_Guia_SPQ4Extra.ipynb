{
 "cells": [
  {
   "cell_type": "markdown",
   "metadata": {},
   "source": [
    "# Guía de Ejercicios Nº1\n",
    "\n",
    "## Ejercicios 4 Función Doble Rampa - Extra"
   ]
  },
  {
   "cell_type": "markdown",
   "metadata": {},
   "source": [
    "### Implementación de Widgets para ejercicio interactivo"
   ]
  },
  {
   "cell_type": "markdown",
   "metadata": {},
   "source": [
    "## Sobre Jupiter Notebook y Python:\n",
    "\n",
    "Esta presentación está escrita con lenguaje Python, utilizando Jupyter Notebook como contenedor. La versiones .pdf y html son estáticas, pero la versión .ipnb es dinámica, por lo que se puede modificar y ver reflejados los cambios. \n",
    "La forma más fácil de instalar Python y Jupiter es mediante Anaconda\n",
    "https://www.continuum.io/downloads\n",
    "Pero existe un pip para usuarios de Python que no quieran instalar Anaconda\n",
    "http://jupyter.org/install.html"
   ]
  },
  {
   "cell_type": "markdown",
   "metadata": {},
   "source": [
    "#### Código de Función Doble Rampa"
   ]
  },
  {
   "cell_type": "code",
   "execution_count": 1,
   "metadata": {
    "collapsed": true
   },
   "outputs": [],
   "source": [
    "def DobleRampa(A, t0_rampa, dt_r1, tf_plano, dt_r2, t):\n",
    "    if t <= t0_rampa:\n",
    "        DobleRampa = 0\n",
    "    elif t < t0_rampa + dt_r1:\n",
    "        DobleRampa = (A / dt_r1) * (t - t0_rampa)\n",
    "    elif t <= tf_plano:\n",
    "        DobleRampa = A\n",
    "    elif t <= tf_plano + dt_r2:\n",
    "        DobleRampa = A + (-1 * A / dt_r2) * (t - tf_plano)\n",
    "    else:\n",
    "        DobleRampa = 0\n",
    "    return DobleRampa"
   ]
  },
  {
   "cell_type": "markdown",
   "metadata": {},
   "source": [
    "#### Bloque de código de Widgets y gráfico\n",
    "Esto podría escribirse en un script e importarlo. Se los deja para evitar pasos ocultos"
   ]
  },
  {
   "cell_type": "code",
   "execution_count": 2,
   "metadata": {
    "collapsed": false
   },
   "outputs": [],
   "source": [
    "%matplotlib inline\n",
    "import matplotlib.pyplot as plt\n",
    "import numpy as np\n",
    "import ipywidgets as wg\n",
    "from IPython.display import display\n",
    "\n",
    "#y0 = 4\n",
    "\n",
    "#herramientas interactivas\n",
    "\n",
    "y0w = wg.IntSlider(value=4, min=0, max= 10, description=\"$y_0$\")\n",
    "Aw = wg.IntSlider(value=2, min=0, max= 10, description=\"A\")\n",
    "t0_rw = wg.IntSlider(value=100, min=0, max=1000, step=100,\\\n",
    "                    description=\"t0 1ºrampa\")\n",
    "dt_r1w = wg.IntSlider(value=100, min=0, max=1000, step=50,\\\n",
    "                    description=\"dt 1ºrampa\")\n",
    "tf_planow = wg.IntSlider(value=400, min=0, max=1000, step=100, \\\n",
    "                       description=\"tf plano\")\n",
    "dt_r2w = wg.IntSlider(value=100, min=0, max=1000, step=100, \\\n",
    "                    description=\"dt 2ºrampa\")\n",
    "\n",
    "#Función de Iteración y gráfico\n",
    "def doblerampagrafico(y0,A, t0_r, dt_r1, tf_plano, dt_r2):\n",
    "    Y = []\n",
    "    for t in range(0,1001,1):\n",
    "        y = y0 + DobleRampa(A, t0_r, dt_r1, tf_plano, dt_r2, t)\n",
    "        Y = np.append(Y, y)\n",
    "    \n",
    "    #set de gráfico:\n",
    "    fig, ax = plt.subplots(figsize=(8, 4))\n",
    "    ax.grid(True)\n",
    "    ax.set_xlim(0,1000)\n",
    "    ax.set_ylim(0,10)\n",
    "    ax.set_xticks(range(0,1100,100))\n",
    "    ax.set_yticks(range(0,11,1))\n",
    "    ax.set_xlabel(\"Tiempo (seg)\")\n",
    "    ax.set_ylabel(\"Y\") \n",
    "    ax.plot(range(0,1001,1), Y); "
   ]
  },
  {
   "cell_type": "markdown",
   "metadata": {},
   "source": [
    "#### Widgets DobleRampa"
   ]
  },
  {
   "cell_type": "code",
   "execution_count": 3,
   "metadata": {
    "collapsed": false
   },
   "outputs": [
    {
     "data": {
      "text/plain": [
       "<function __main__.doblerampagrafico>"
      ]
     },
     "execution_count": 3,
     "metadata": {},
     "output_type": "execute_result"
    },
    {
     "data": {
      "image/png": "[encoded data removed]",
      "text/plain": [
       "<matplotlib.figure.Figure at 0x4dfa7f0>"
      ]
     },
     "metadata": {},
     "output_type": "display_data"
    }
   ],
   "source": [
    "wg.interact(doblerampagrafico,\n",
    "            y0=y0w,\n",
    "            A=Aw,\n",
    "            t0_r=t0_rw,\n",
    "            dt_r1=dt_r1w,\n",
    "            tf_plano=tf_planow,\n",
    "            dt_r2=dt_r2w)"
   ]
  },
  {
   "cell_type": "code",
   "execution_count": null,
   "metadata": {
    "collapsed": true
   },
   "outputs": [],
   "source": []
  }
 ],
 "metadata": {
  "kernelspec": {
   "display_name": "Python 3",
   "language": "python",
   "name": "python3"
  },
  "language_info": {
   "codemirror_mode": {
    "name": "ipython",
    "version": 3
   },
   "file_extension": ".py",
   "mimetype": "text/x-python",
   "name": "python",
   "nbconvert_exporter": "python",
   "pygments_lexer": "ipython3",
   "version": "3.6.0"
  },
  "widgets": {
   "state": {
    "d419132530c04ab9bdf574fc7f8d6578": {
     "views": [
      {
       "cell_index": 8
      }
     ]
    }
   },
   "version": "1.2.0"
  }
 },
 "nbformat": 4,
 "nbformat_minor": 2
}
