{
 "cells": [
  {
   "cell_type": "markdown",
   "metadata": {},
   "source": [
    "# Guía de Ejercicios Nº1\n",
    "\n",
    "## Ejercicios 3 con Exponencial Decreciente"
   ]
  },
  {
   "cell_type": "markdown",
   "metadata": {},
   "source": [
    "## Sobre Jupiter Notebook y Python:\n",
    "\n",
    "Esta presentación está escrita con lenguaje Python, utilizando Jupyter Notebook como contenedor. La versión .pdf es estática, pero la versión .ipnb es dinámica, por lo que se puede modificar y ver reflejados los cambios haciendo Control + Enter. \n",
    "La forma más fácil de instalar Python y Jupiter es mediante Anaconda\n",
    "https://www.continuum.io/downloads\n",
    "Pero existe un pip para usuarios de Python que no quieran instalar Anaconda\n",
    "http://jupyter.org/install.html"
   ]
  },
  {
   "cell_type": "markdown",
   "metadata": {},
   "source": [
    "### 3. Crear una función exponencial decreciente y simular los siguientes casos."
   ]
  },
  {
   "cell_type": "markdown",
   "metadata": {},
   "source": [
    "### Bloque Función Exponencial decreciente"
   ]
  },
  {
   "cell_type": "markdown",
   "metadata": {},
   "source": [
    "$$ A · \\left(1 - e^{-\\frac{t-t0}{\\tau}}\\right)$$"
   ]
  },
  {
   "cell_type": "code",
   "execution_count": 7,
   "metadata": {
    "collapsed": true
   },
   "outputs": [],
   "source": [
    "import numpy as np\n",
    "\n",
    "def ExpDecr (t0, tau, A, t):\n",
    "    \"\"\"Exponencial Decreciente\"\"\"\n",
    "    if t <= t0:\n",
    "        Y = 0\n",
    "    else:\n",
    "        Y = A * (1 - np.e**(-((t - t0) / tau)))\n",
    "    return Y\n",
    "\n",
    "#np.e es \"e\" de la librería numpy y; \n",
    "#el símbolo de elevado (en excel ^)es doble asterisco **         \n",
    "        \n",
    "\"\"\"Función Exponencial en Excel:\n",
    "Public Function ExponencialDecreciente(t0, tau, A, t)\n",
    "    If t <= t0 Then\n",
    "        ExponencialDecreciente = 0\n",
    "    Else\n",
    "        ExponencialDecreciente = A * (1 - Exp(-((t - t0) / tau)))\n",
    "    End If\n",
    "End Function\"\"\";"
   ]
  },
  {
   "cell_type": "code",
   "execution_count": 8,
   "metadata": {
    "collapsed": false
   },
   "outputs": [
    {
     "data": {
      "image/png": "[encoded data removed]",
      "text/plain": [
       "<matplotlib.figure.Figure at 0x814ccf8>"
      ]
     },
     "metadata": {},
     "output_type": "display_data"
    }
   ],
   "source": [
    "%matplotlib inline\n",
    "import matplotlib.pyplot as plt\n",
    "import numpy as np\n",
    "\n",
    "\n",
    "y0 = 4\n",
    "\n",
    "#Datos Exp. Decreciente\n",
    "t0 = 100\n",
    "tau = 100\n",
    "A = 3\n",
    " \n",
    "\n",
    "#iteración\n",
    "Y = []\n",
    "for t in range(0,1001,1):\n",
    "    y = y0 + ExpDecr(t0, tau, A, t)\n",
    "    Y = np.append(Y, y)\n",
    "    \n",
    "    \n",
    "#gráfico\n",
    "plt.plot(range(0,1001,1), Y)\n",
    "   \n",
    "plt.xlim(xmin=0 , xmax=1000)\n",
    "plt.ylim(ymin=0, ymax=10);"
   ]
  },
  {
   "cell_type": "markdown",
   "metadata": {},
   "source": [
    "Ejercicio 3.b"
   ]
  },
  {
   "cell_type": "code",
   "execution_count": 10,
   "metadata": {
    "collapsed": false
   },
   "outputs": [
    {
     "data": {
      "image/png": "[encoded data removed]",
      "text/plain": [
       "<matplotlib.figure.Figure at 0x8116470>"
      ]
     },
     "metadata": {},
     "output_type": "display_data"
    }
   ],
   "source": [
    "%matplotlib inline\n",
    "import matplotlib.pyplot as plt\n",
    "import numpy as np\n",
    "\n",
    "\n",
    "y0 = 4\n",
    "\n",
    "#Datos Exp. Decreciente 1\n",
    "t01 = 100\n",
    "tau1 = 100\n",
    "A1 = 3\n",
    "\n",
    "\n",
    "#Datos Exp. Decreciente 2\n",
    "t02 = 600\n",
    "tau2 = 50\n",
    "A2 = -5\n",
    "\n",
    "#iteración\n",
    "Y = []\n",
    "for t in range(0,1001,1):\n",
    "    y = y0 \\\n",
    "    + ExpDecr(t01, tau1, A1, t) \\\n",
    "    + ExpDecr(t02, tau2, A2, t)\n",
    "    Y = np.append(Y, y)\n",
    "    \n",
    "    \n",
    "#gráfico\n",
    "#set de gráfico:\n",
    "fig, ax = plt.subplots(figsize=(8, 4))\n",
    "ax.grid(True)\n",
    "ax.set_xlim(0,1000)\n",
    "ax.set_ylim(0,10)\n",
    "ax.set_xticks(range(0,1100,100))\n",
    "ax.set_yticks(range(0,11,1))\n",
    "ax.set_xlabel(\"Tiempo (seg)\")\n",
    "ax.set_ylabel(\"Y\")\n",
    "\n",
    "#gráfico: \n",
    "ax.plot(range(0,1001,1), Y);"
   ]
  }
 ],
 "metadata": {
  "kernelspec": {
   "display_name": "Python 3",
   "language": "python",
   "name": "python3"
  },
  "language_info": {
   "codemirror_mode": {
    "name": "ipython",
    "version": 3
   },
   "file_extension": ".py",
   "mimetype": "text/x-python",
   "name": "python",
   "nbconvert_exporter": "python",
   "pygments_lexer": "ipython3",
   "version": "3.6.0"
  }
 },
 "nbformat": 4,
 "nbformat_minor": 2
}
