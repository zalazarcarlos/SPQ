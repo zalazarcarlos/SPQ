{
 "cells": [
  {
   "cell_type": "markdown",
   "metadata": {},
   "source": [
    "# Guía de Ejercicios Nº1\n",
    "\n",
    "## Ejercicios 4 Función Doble Rampa"
   ]
  },
  {
   "cell_type": "markdown",
   "metadata": {},
   "source": [
    "## Sobre Jupiter Notebook y Python:\n",
    "\n",
    "Esta presentación está escrita con lenguaje Python, utilizando Jupyter Notebook como contenedor. La versión .pdf es estática, pero la versión .ipnb es dinámica, por lo que se puede modificar y ver reflejados los cambios haciendo Control + Enter. \n",
    "La forma más fácil de instalar Python y Jupiter es mediante Anaconda\n",
    "https://www.continuum.io/downloads\n",
    "Pero existe un pip para usuarios de Python que no quieran instalar Anaconda\n",
    "http://jupyter.org/install.html"
   ]
  },
  {
   "cell_type": "markdown",
   "metadata": {},
   "source": [
    "### 4. Crear una función que permita obtener las siguientes representaciones."
   ]
  },
  {
   "cell_type": "markdown",
   "metadata": {},
   "source": [
    "### Bloque Función Doble Rampa"
   ]
  },
  {
   "cell_type": "code",
   "execution_count": 2,
   "metadata": {
    "collapsed": false
   },
   "outputs": [],
   "source": [
    "def DobleRampa(A, t0_rampa, dt_r1, tf_plano, dt_r2, t):\n",
    "    if t <= t0_rampa:\n",
    "        DobleRampa = 0\n",
    "    elif t < t0_rampa + dt_r1:\n",
    "        DobleRampa = (A / dt_r1) * (t - t0_rampa)\n",
    "    elif t <= tf_plano:\n",
    "        DobleRampa = A\n",
    "    elif t <= tf_plano + dt_r2:\n",
    "        DobleRampa = A + (-1 * A / dt_r2) * (t - tf_plano)\n",
    "    else:\n",
    "        DobleRampa = 0\n",
    "    return DobleRampa\n",
    "\n",
    "\"\"\"Doble Rampa en Excel:\n",
    "Public Function DobleRampa(A, t0_rampa, dt_r1, tf_plano, dt_r2, t)\n",
    "    If t <= t0_rampa Then\n",
    "        DobleRampa = 0\n",
    "    ElseIf t < t0_rampa + dt_r1 Then\n",
    "        DobleRampa = (A / dt_r1) * (t - t0_rampa)\n",
    "    \n",
    "    ElseIf t <= tf_plano Then\n",
    "        DobleRampa = A\n",
    "    \n",
    "    ElseIf t <= tf_plano + dt_r2 Then\n",
    "        DobleRampa = A + (-1 * A / dt_r2) * (t - tf_plano)\n",
    "    Else\n",
    "        DobleRampa = 0\n",
    "    End If\n",
    "End Function\"\"\";"
   ]
  },
  {
   "cell_type": "markdown",
   "metadata": {},
   "source": [
    "### 4. a"
   ]
  },
  {
   "cell_type": "code",
   "execution_count": 3,
   "metadata": {
    "collapsed": false
   },
   "outputs": [
    {
     "data": {
      "image/png": "[encoded data removed]",
      "text/plain": [
       "<matplotlib.figure.Figure at 0x79f3080>"
      ]
     },
     "metadata": {},
     "output_type": "display_data"
    }
   ],
   "source": [
    "%matplotlib inline\n",
    "import matplotlib.pyplot as plt\n",
    "import numpy as np\n",
    "\n",
    "\n",
    "y0 = 4\n",
    "\n",
    "#Datos doble rampa:\n",
    "A = 2\n",
    "t0_r = 100\n",
    "dt_r1 = 100\n",
    "tf_plano = 700\n",
    "dt_r2 = 100\n",
    "\n",
    "#iteración\n",
    "Y = []\n",
    "for t in range(0,1001,1):\n",
    "    y = y0 + DobleRampa(A, t0_r, dt_r1, tf_plano, dt_r2, t)\n",
    "    Y = np.append(Y, y)\n",
    "    \n",
    "    \n",
    "#set de gráfico:\n",
    "fig, ax = plt.subplots(figsize=(8, 4))\n",
    "ax.grid(True)\n",
    "ax.set_xlim(0,1000)\n",
    "ax.set_ylim(0,10)\n",
    "ax.set_xticks(range(0,1100,100))\n",
    "ax.set_yticks(range(0,11,1))\n",
    "ax.set_xlabel(\"Tiempo (seg)\")\n",
    "ax.set_ylabel(\"Y\")\n",
    "\n",
    "#gráfico: \n",
    "ax.plot(range(0,1001,1), Y);"
   ]
  },
  {
   "cell_type": "markdown",
   "metadata": {},
   "source": [
    "### 4. b"
   ]
  },
  {
   "cell_type": "code",
   "execution_count": 14,
   "metadata": {
    "collapsed": false
   },
   "outputs": [
    {
     "data": {
      "image/png": "[encoded data removed]",
      "text/plain": [
       "<matplotlib.figure.Figure at 0x85ec518>"
      ]
     },
     "metadata": {},
     "output_type": "display_data"
    }
   ],
   "source": [
    "%matplotlib inline\n",
    "import matplotlib.pyplot as plt\n",
    "import numpy as np\n",
    "\n",
    "\n",
    "y0 = 4\n",
    "\n",
    "#Datos doble rampa:\n",
    "A = 2\n",
    "t0_r = 100\n",
    "dt_r1 = 100\n",
    "tf_plano = 400\n",
    "dt_r2 = 400\n",
    "\n",
    "#iteración\n",
    "Y = []\n",
    "for t in range(0,1001,1):\n",
    "    y = y0 + DobleRampa(A, t0_r, dt_r1, tf_plano, dt_r2, t)\n",
    "    Y = np.append(Y, y)\n",
    "    \n",
    "    \n",
    "#set de gráfico:\n",
    "fig, ax = plt.subplots(figsize=(8, 4))\n",
    "ax.grid(True)\n",
    "ax.set_xlim(0,1000)\n",
    "ax.set_ylim(0,10)\n",
    "ax.set_xticks(range(0,1100,100))\n",
    "ax.set_yticks(range(0,11,1))\n",
    "ax.set_xlabel(\"Tiempo (seg)\")\n",
    "ax.set_ylabel(\"Y\")\n",
    "\n",
    "#gráfico: \n",
    "ax.plot(range(0,1001,1), Y);"
   ]
  },
  {
   "cell_type": "markdown",
   "metadata": {},
   "source": [
    "### Ejercicio 4.c"
   ]
  },
  {
   "cell_type": "code",
   "execution_count": 15,
   "metadata": {
    "collapsed": false
   },
   "outputs": [
    {
     "data": {
      "image/png": "[encoded data removed]",
      "text/plain": [
       "<matplotlib.figure.Figure at 0x82f51d0>"
      ]
     },
     "metadata": {},
     "output_type": "display_data"
    }
   ],
   "source": [
    "%matplotlib inline\n",
    "import matplotlib.pyplot as plt\n",
    "import numpy as np\n",
    "\n",
    "\n",
    "y0 = 6\n",
    "\n",
    "#Datos doble rampa:\n",
    "A = -3\n",
    "t0_r = 100\n",
    "dt_r1 = 50\n",
    "tf_plano = 200\n",
    "dt_r2 = 400\n",
    "\n",
    "#iteración\n",
    "Y = []\n",
    "for t in range(0,1001,1):\n",
    "    y = y0 + DobleRampa(A, t0_r, dt_r1, tf_plano, dt_r2, t)\n",
    "    Y = np.append(Y, y)\n",
    "    \n",
    "    \n",
    "#set de gráfico:\n",
    "fig, ax = plt.subplots(figsize=(8, 4))\n",
    "ax.grid(True)\n",
    "ax.set_xlim(0,1000)\n",
    "ax.set_ylim(0,10)\n",
    "ax.set_xticks(range(0,1100,100))\n",
    "ax.set_yticks(range(0,11,1))\n",
    "ax.set_xlabel(\"Tiempo (seg)\")\n",
    "ax.set_ylabel(\"Y\")\n",
    "\n",
    "#gráfico: \n",
    "ax.plot(range(0,1001,1), Y);"
   ]
  },
  {
   "cell_type": "markdown",
   "metadata": {},
   "source": [
    "### Ejercicio 4.d"
   ]
  },
  {
   "cell_type": "code",
   "execution_count": 16,
   "metadata": {
    "collapsed": false
   },
   "outputs": [
    {
     "data": {
      "image/png": "[encoded data removed]",
      "text/plain": [
       "<matplotlib.figure.Figure at 0x87b6ba8>"
      ]
     },
     "metadata": {},
     "output_type": "display_data"
    }
   ],
   "source": [
    "%matplotlib inline\n",
    "import matplotlib.pyplot as plt\n",
    "import numpy as np\n",
    "\n",
    "\n",
    "y0 = 6\n",
    "\n",
    "#Datos doble rampa:\n",
    "A = -3\n",
    "t0_r = 100\n",
    "dt_r1 = 50\n",
    "tf_plano = 500\n",
    "dt_r2 = 0\n",
    "\n",
    "#iteración\n",
    "Y = []\n",
    "for t in range(0,1001,1):\n",
    "    y = y0 + DobleRampa(A, t0_r, dt_r1, tf_plano, dt_r2, t)\n",
    "    Y = np.append(Y, y)\n",
    "    \n",
    "    \n",
    "#set de gráfico:\n",
    "fig, ax = plt.subplots(figsize=(8, 4))\n",
    "ax.grid(True)\n",
    "ax.set_xlim(0,1000)\n",
    "ax.set_ylim(0,10)\n",
    "ax.set_xticks(range(0,1100,100))\n",
    "ax.set_yticks(range(0,11,1))\n",
    "ax.set_xlabel(\"Tiempo (seg)\")\n",
    "ax.set_ylabel(\"Y\")\n",
    "\n",
    "#gráfico: \n",
    "ax.plot(range(0,1001,1), Y);"
   ]
  },
  {
   "cell_type": "markdown",
   "metadata": {},
   "source": [
    "### Ejercicio 4.e"
   ]
  },
  {
   "cell_type": "code",
   "execution_count": 12,
   "metadata": {
    "collapsed": false
   },
   "outputs": [
    {
     "data": {
      "image/png": "[encoded data removed]",
      "text/plain": [
       "<matplotlib.figure.Figure at 0x505e048>"
      ]
     },
     "metadata": {},
     "output_type": "display_data"
    }
   ],
   "source": [
    "%matplotlib inline\n",
    "import matplotlib.pyplot as plt\n",
    "import numpy as np\n",
    "\n",
    "\n",
    "y0 = 3\n",
    "\n",
    "#Datos doble rampa:\n",
    "A = 3\n",
    "t0_r = 200\n",
    "dt_r1 = 0\n",
    "tf_plano = 600\n",
    "dt_r2 = 0\n",
    "\n",
    "#iteración\n",
    "Y = []\n",
    "for t in range(0,1001,1):\n",
    "    y = y0 + DobleRampa(A, t0_r, dt_r1, tf_plano, dt_r2, t)\n",
    "    Y = np.append(Y, y)\n",
    "    \n",
    "    \n",
    "#set de gráfico:\n",
    "fig, ax = plt.subplots(figsize=(8, 4))\n",
    "ax.grid(True)\n",
    "ax.set_xlim(0,1000)\n",
    "ax.set_ylim(0,10)\n",
    "ax.set_xticks(range(0,1100,100))\n",
    "ax.set_yticks(range(0,11,1))\n",
    "ax.set_xlabel(\"Tiempo (seg)\")\n",
    "ax.set_ylabel(\"Y\")\n",
    "\n",
    "#gráfico: \n",
    "ax.plot(range(0,1001,1), Y);"
   ]
  },
  {
   "cell_type": "code",
   "execution_count": null,
   "metadata": {
    "collapsed": true
   },
   "outputs": [],
   "source": []
  },
  {
   "cell_type": "code",
   "execution_count": 11,
   "metadata": {
    "collapsed": false
   },
   "outputs": [
    {
     "data": {
      "image/png": "[encoded data removed]",
      "text/plain": [
       "<matplotlib.figure.Figure at 0x505e9b0>"
      ]
     },
     "metadata": {},
     "output_type": "display_data"
    }
   ],
   "source": [
    "%matplotlib inline\n",
    "import matplotlib.pyplot as plt\n",
    "import numpy as np\n",
    "\n",
    "\n",
    "y0 = 7\n",
    "\n",
    "#Datos doble rampa:\n",
    "A = -4\n",
    "t0_r = 100\n",
    "dt_r1 = 0\n",
    "tf_plano = 300\n",
    "dt_r2 = 0\n",
    "\n",
    "#iteración\n",
    "Y = []\n",
    "for t in range(0,1001,1):\n",
    "    y = y0 + DobleRampa(A, t0_r, dt_r1, tf_plano, dt_r2, t)\n",
    "    Y = np.append(Y, y)\n",
    "    \n",
    "    \n",
    "#set de gráfico:\n",
    "fig, ax = plt.subplots(figsize=(8, 4))\n",
    "ax.grid(True)\n",
    "ax.set_xlim(0,1000)\n",
    "ax.set_ylim(0,10)\n",
    "ax.set_xticks(range(0,1100,100))\n",
    "ax.set_yticks(range(0,11,1))\n",
    "ax.set_xlabel(\"Tiempo (seg)\")\n",
    "ax.set_ylabel(\"Y\")\n",
    "\n",
    "#gráfico: \n",
    "ax.plot(range(0,1001,1), Y);"
   ]
  }
 ],
 "metadata": {
  "kernelspec": {
   "display_name": "Python 3",
   "language": "python",
   "name": "python3"
  },
  "language_info": {
   "codemirror_mode": {
    "name": "ipython",
    "version": 3
   },
   "file_extension": ".py",
   "mimetype": "text/x-python",
   "name": "python",
   "nbconvert_exporter": "python",
   "pygments_lexer": "ipython3",
   "version": "3.6.0"
  }
 },
 "nbformat": 4,
 "nbformat_minor": 2
}
