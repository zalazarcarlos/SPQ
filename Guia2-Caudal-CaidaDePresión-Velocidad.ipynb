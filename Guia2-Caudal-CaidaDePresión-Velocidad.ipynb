{
 "cells": [
  {
   "cell_type": "markdown",
   "metadata": {},
   "source": [
    "# Relaciones entre fricción , velocidad, diametro y Caudal"
   ]
  },
  {
   "cell_type": "markdown",
   "metadata": {},
   "source": [
    "Caudal = velocidad · area\n",
    "\n",
    "Para una cañería\n",
    "\n",
    "$F = v · \\frac{\\pi·d^2}{4}$"
   ]
  },
  {
   "cell_type": "code",
   "execution_count": 36,
   "metadata": {
    "collapsed": true
   },
   "outputs": [],
   "source": [
    "%matplotlib inline\n",
    "import matplotlib.pyplot as plt\n",
    "import numpy as np"
   ]
  },
  {
   "cell_type": "code",
   "execution_count": 1,
   "metadata": {
    "collapsed": true
   },
   "outputs": [],
   "source": [
    "v1 = 1 #m/s\n",
    "d_in = 1 #inch2  Cañería 1 pulgada\n",
    "d_m = d_in * 0.0254"
   ]
  },
  {
   "cell_type": "code",
   "execution_count": 2,
   "metadata": {
    "collapsed": false
   },
   "outputs": [
    {
     "data": {
      "text/plain": [
       "0.0254"
      ]
     },
     "execution_count": 2,
     "metadata": {},
     "output_type": "execute_result"
    }
   ],
   "source": [
    "d_m"
   ]
  },
  {
   "cell_type": "markdown",
   "metadata": {},
   "source": [
    "Área"
   ]
  },
  {
   "cell_type": "code",
   "execution_count": 5,
   "metadata": {
    "collapsed": false
   },
   "outputs": [
    {
     "data": {
      "text/plain": [
       "3.141592653589793"
      ]
     },
     "execution_count": 5,
     "metadata": {},
     "output_type": "execute_result"
    }
   ],
   "source": [
    "np.pi"
   ]
  },
  {
   "cell_type": "code",
   "execution_count": 8,
   "metadata": {
    "collapsed": false
   },
   "outputs": [],
   "source": [
    "area1 = np.pi * d_m**2 /4    #m2"
   ]
  },
  {
   "cell_type": "markdown",
   "metadata": {},
   "source": [
    "Caudal"
   ]
  },
  {
   "cell_type": "code",
   "execution_count": 10,
   "metadata": {
    "collapsed": false
   },
   "outputs": [
    {
     "data": {
      "text/plain": [
       "0.0005067074790974977"
      ]
     },
     "execution_count": 10,
     "metadata": {},
     "output_type": "execute_result"
    }
   ],
   "source": [
    "F1_m3s = v1 * area1\n",
    "F1_m3s"
   ]
  },
  {
   "cell_type": "code",
   "execution_count": 11,
   "metadata": {
    "collapsed": false
   },
   "outputs": [
    {
     "data": {
      "text/plain": [
       "1.8241469247509916"
      ]
     },
     "execution_count": 11,
     "metadata": {},
     "output_type": "execute_result"
    }
   ],
   "source": [
    "F1_m3h = F1_m3s * 3600\n",
    "F1_m3h"
   ]
  },
  {
   "cell_type": "markdown",
   "metadata": {},
   "source": [
    "## Ahora para cualquier velocidad y diámetro"
   ]
  },
  {
   "cell_type": "code",
   "execution_count": 26,
   "metadata": {
    "collapsed": true
   },
   "outputs": [],
   "source": [
    "def caudalm3h(vel, diam):\n",
    "    \"\"\"velocidad en m/s y diametro en plg\"\"\"\n",
    "    d_m = diam * 0.0254\n",
    "    area = np.pi * d_m**2 /4\n",
    "    F_m3s = vel * area\n",
    "    F_m3h = F_m3s * 3600\n",
    "    return F_m3h"
   ]
  },
  {
   "cell_type": "code",
   "execution_count": 27,
   "metadata": {
    "collapsed": false
   },
   "outputs": [
    {
     "data": {
      "text/plain": [
       "1.8241469247509916"
      ]
     },
     "execution_count": 27,
     "metadata": {},
     "output_type": "execute_result"
    }
   ],
   "source": [
    "F1prueba = caudalm3h(1,1)\n",
    "F1prueba"
   ]
  },
  {
   "cell_type": "code",
   "execution_count": 28,
   "metadata": {
    "collapsed": false
   },
   "outputs": [
    {
     "data": {
      "text/plain": [
       "0.0"
      ]
     },
     "execution_count": 28,
     "metadata": {},
     "output_type": "execute_result"
    }
   ],
   "source": [
    "F1_m3h - F1prueba"
   ]
  },
  {
   "cell_type": "markdown",
   "metadata": {},
   "source": [
    "## Cambio del caudal con la velocidad"
   ]
  },
  {
   "cell_type": "code",
   "execution_count": 120,
   "metadata": {
    "collapsed": false
   },
   "outputs": [
    {
     "data": {
      "text/plain": [
       "array([0, 1, 2, 3, 4, 5, 6])"
      ]
     },
     "execution_count": 120,
     "metadata": {},
     "output_type": "execute_result"
    }
   ],
   "source": [
    "velocidades1 = np.arange(0,7,1)\n",
    "velocidades1"
   ]
  },
  {
   "cell_type": "code",
   "execution_count": 121,
   "metadata": {
    "collapsed": false
   },
   "outputs": [
    {
     "data": {
      "text/plain": [
       "array([1, 1, 1, 1, 1, 1, 1])"
      ]
     },
     "execution_count": 121,
     "metadata": {},
     "output_type": "execute_result"
    }
   ],
   "source": [
    "diametrocte = np.ones_like(velocidades1)\n",
    "diametrocte"
   ]
  },
  {
   "cell_type": "code",
   "execution_count": 122,
   "metadata": {
    "collapsed": false
   },
   "outputs": [
    {
     "data": {
      "text/plain": [
       "array([  0.        ,   1.82414692,   3.64829385,   5.47244077,\n",
       "         7.2965877 ,   9.12073462,  10.94488155])"
      ]
     },
     "execution_count": 122,
     "metadata": {},
     "output_type": "execute_result"
    }
   ],
   "source": [
    "Alturavelvar = caudalm3h(velocidades1,diametrocte)\n",
    "Alturavelvar"
   ]
  },
  {
   "cell_type": "code",
   "execution_count": 123,
   "metadata": {
    "collapsed": false
   },
   "outputs": [
    {
     "data": {
      "text/plain": [
       "[<matplotlib.lines.Line2D at 0x88cd0b8>]"
      ]
     },
     "execution_count": 123,
     "metadata": {},
     "output_type": "execute_result"
    },
    {
     "data": {
      "image/png": "[encoded data removed]",
      "text/plain": [
       "<matplotlib.figure.Figure at 0x884c710>"
      ]
     },
     "metadata": {},
     "output_type": "display_data"
    }
   ],
   "source": [
    "plt.plot(velocidades1, Alturavelvar)"
   ]
  },
  {
   "cell_type": "code",
   "execution_count": 124,
   "metadata": {
    "collapsed": false,
    "scrolled": true
   },
   "outputs": [
    {
     "name": "stdout",
     "output_type": "stream",
     "text": [
      "velocidad 0 caudal 0.0\n",
      "velocidad 1 caudal 1.82414692475\n",
      "velocidad 2 caudal 3.6482938495\n",
      "velocidad 3 caudal 5.47244077425\n",
      "velocidad 4 caudal 7.296587699\n",
      "velocidad 5 caudal 9.12073462375\n",
      "velocidad 6 caudal 10.9448815485\n"
     ]
    }
   ],
   "source": [
    "for v in velocidades1:\n",
    "    f = caudalm3h(v, 1)\n",
    "    print ('velocidad',v,'caudal', f)\n"
   ]
  },
  {
   "cell_type": "markdown",
   "metadata": {},
   "source": [
    "## Cambio del caudal con el Diámetro"
   ]
  },
  {
   "cell_type": "code",
   "execution_count": 90,
   "metadata": {
    "collapsed": false
   },
   "outputs": [
    {
     "data": {
      "text/plain": [
       "array([1, 2, 3, 4, 5, 6, 7])"
      ]
     },
     "execution_count": 90,
     "metadata": {},
     "output_type": "execute_result"
    }
   ],
   "source": [
    "diametros1 = np.arange(1,8,1)\n",
    "diametros1"
   ]
  },
  {
   "cell_type": "code",
   "execution_count": 91,
   "metadata": {
    "collapsed": false
   },
   "outputs": [
    {
     "data": {
      "text/plain": [
       "array([1, 1, 1, 1, 1, 1, 1])"
      ]
     },
     "execution_count": 91,
     "metadata": {},
     "output_type": "execute_result"
    }
   ],
   "source": [
    "velocidadcte = np.ones_like(diametros1)\n",
    "velocidadcte"
   ]
  },
  {
   "cell_type": "code",
   "execution_count": 92,
   "metadata": {
    "collapsed": false
   },
   "outputs": [
    {
     "data": {
      "text/plain": [
       "array([  1.82414692,   7.2965877 ,  16.41732232,  29.1863508 ,\n",
       "        45.60367312,  65.66928929,  89.38319931])"
      ]
     },
     "execution_count": 92,
     "metadata": {},
     "output_type": "execute_result"
    }
   ],
   "source": [
    "AlturaDiamVar = caudalm3h(velocidadcte,diametros1)\n",
    "AlturaDiamVar"
   ]
  },
  {
   "cell_type": "code",
   "execution_count": 48,
   "metadata": {
    "collapsed": false
   },
   "outputs": [
    {
     "data": {
      "text/plain": [
       "[<matplotlib.lines.Line2D at 0x84c4d68>]"
      ]
     },
     "execution_count": 48,
     "metadata": {},
     "output_type": "execute_result"
    },
    {
     "data": {
      "image/png": "[encoded data removed]",
      "text/plain": [
       "<matplotlib.figure.Figure at 0x7f0e128>"
      ]
     },
     "metadata": {},
     "output_type": "display_data"
    }
   ],
   "source": [
    "plt.plot(diametros1, AlturaDiamVar)"
   ]
  },
  {
   "cell_type": "code",
   "execution_count": 93,
   "metadata": {
    "collapsed": false
   },
   "outputs": [
    {
     "name": "stdout",
     "output_type": "stream",
     "text": [
      "diámetro 1 caudal 1.82414692475\n",
      "diámetro 2 caudal 7.296587699\n",
      "diámetro 3 caudal 16.4173223228\n",
      "diámetro 4 caudal 29.186350796\n",
      "diámetro 5 caudal 45.6036731188\n",
      "diámetro 6 caudal 65.669289291\n",
      "diámetro 7 caudal 89.3831993128\n"
     ]
    }
   ],
   "source": [
    "for d in diametros1:\n",
    "    f = caudalm3h(1, d)\n",
    "    print ('diámetro',d,'caudal', f)"
   ]
  },
  {
   "cell_type": "markdown",
   "metadata": {},
   "source": [
    "## Caida de presión expresada en m/m\n",
    "\n",
    "### 1 m/s\n",
    "\n",
    "$$ \\frac{hf}{L} = f_D · \\frac{1}{d} · \\frac{v^2}{2·g}$$\n",
    "\n",
    "para $fd = 0.03$"
   ]
  },
  {
   "cell_type": "code",
   "execution_count": 94,
   "metadata": {
    "collapsed": false
   },
   "outputs": [
    {
     "data": {
      "text/plain": [
       "0.0254"
      ]
     },
     "execution_count": 94,
     "metadata": {},
     "output_type": "execute_result"
    }
   ],
   "source": [
    "d_m"
   ]
  },
  {
   "cell_type": "code",
   "execution_count": 55,
   "metadata": {
    "collapsed": false
   },
   "outputs": [
    {
     "data": {
      "text/plain": [
       "9.80665"
      ]
     },
     "execution_count": 55,
     "metadata": {},
     "output_type": "execute_result"
    }
   ],
   "source": [
    "from scipy.constants import g\n",
    "g"
   ]
  },
  {
   "cell_type": "code",
   "execution_count": 56,
   "metadata": {
    "collapsed": true
   },
   "outputs": [],
   "source": [
    "fd = 0.03\n",
    "v = 1    #m/s"
   ]
  },
  {
   "cell_type": "code",
   "execution_count": 95,
   "metadata": {
    "collapsed": false
   },
   "outputs": [
    {
     "data": {
      "text/plain": [
       "0.06021946139633434"
      ]
     },
     "execution_count": 95,
     "metadata": {},
     "output_type": "execute_result"
    }
   ],
   "source": [
    "hfL = fd / d_m * v**2 / (2 * g)\n",
    "hfL"
   ]
  },
  {
   "cell_type": "markdown",
   "metadata": {},
   "source": [
    "Función"
   ]
  },
  {
   "cell_type": "code",
   "execution_count": 108,
   "metadata": {
    "collapsed": true
   },
   "outputs": [],
   "source": [
    "def CaidaxMetroCañeria(vel, diam, fd):\n",
    "    \"\"\"velocidad en m/s y diametro en plg\"\"\"\n",
    "    d_m = diam * 0.0254\n",
    "    g = 9.80665\n",
    "    return fd * 1 / d_m * vel**2 / (2 * g)"
   ]
  },
  {
   "cell_type": "code",
   "execution_count": 109,
   "metadata": {
    "collapsed": false
   },
   "outputs": [
    {
     "data": {
      "text/plain": [
       "0.06021946139633434"
      ]
     },
     "execution_count": 109,
     "metadata": {},
     "output_type": "execute_result"
    }
   ],
   "source": [
    "prueba1 = CaidaxMetroCañeria(1,1,0.03)\n",
    "prueba1"
   ]
  },
  {
   "cell_type": "markdown",
   "metadata": {},
   "source": []
  },
  {
   "cell_type": "code",
   "execution_count": 65,
   "metadata": {
    "collapsed": false
   },
   "outputs": [
    {
     "data": {
      "text/plain": [
       "7"
      ]
     },
     "execution_count": 65,
     "metadata": {},
     "output_type": "execute_result"
    }
   ],
   "source": [
    "len(diametros1)"
   ]
  },
  {
   "cell_type": "code",
   "execution_count": 98,
   "metadata": {
    "collapsed": false
   },
   "outputs": [
    {
     "data": {
      "text/plain": [
       "array([ 0.  ,  0.15,  0.3 ,  0.45,  0.6 ,  0.75,  0.9 ])"
      ]
     },
     "execution_count": 98,
     "metadata": {},
     "output_type": "execute_result"
    }
   ],
   "source": [
    "fdvariables = np.linspace(0.0,0.9,7)\n",
    "fdvariables"
   ]
  },
  {
   "cell_type": "code",
   "execution_count": 115,
   "metadata": {
    "collapsed": false
   },
   "outputs": [
    {
     "data": {
      "text/plain": [
       "array([ 0.03,  0.03,  0.03,  0.03,  0.03,  0.03,  0.03])"
      ]
     },
     "execution_count": 115,
     "metadata": {},
     "output_type": "execute_result"
    }
   ],
   "source": [
    "fdconstantes = np.ones_like(fdvariables)*0.03\n",
    "fdconstantes"
   ]
  },
  {
   "cell_type": "markdown",
   "metadata": {},
   "source": [
    "## Cambio Caida con el Diámetro"
   ]
  },
  {
   "cell_type": "code",
   "execution_count": 125,
   "metadata": {
    "collapsed": false
   },
   "outputs": [
    {
     "data": {
      "text/plain": [
       "array([ 0.06021946,  0.03010973,  0.02007315,  0.01505487,  0.01204389,\n",
       "        0.01003658,  0.00860278])"
      ]
     },
     "execution_count": 125,
     "metadata": {},
     "output_type": "execute_result"
    }
   ],
   "source": [
    "hf_diam = CaidaxMetroCañeria(velocidadcte,diametros1,fdconstantes)\n",
    "hf_diam"
   ]
  },
  {
   "cell_type": "code",
   "execution_count": 117,
   "metadata": {
    "collapsed": false,
    "scrolled": true
   },
   "outputs": [
    {
     "data": {
      "text/plain": [
       "[<matplotlib.lines.Line2D at 0x8830630>]"
      ]
     },
     "execution_count": 117,
     "metadata": {},
     "output_type": "execute_result"
    },
    {
     "data": {
      "image/png": "[encoded data removed]",
      "text/plain": [
       "<matplotlib.figure.Figure at 0x87332e8>"
      ]
     },
     "metadata": {},
     "output_type": "display_data"
    }
   ],
   "source": [
    "plt.plot(diametros1,hf_diam)"
   ]
  },
  {
   "cell_type": "code",
   "execution_count": 118,
   "metadata": {
    "collapsed": false
   },
   "outputs": [
    {
     "name": "stdout",
     "output_type": "stream",
     "text": [
      "diámetro 1 caida 0.0602194613963\n",
      "diámetro 2 caida 0.0301097306982\n",
      "diámetro 3 caida 0.0200731537988\n",
      "diámetro 4 caida 0.0150548653491\n",
      "diámetro 5 caida 0.0120438922793\n",
      "diámetro 6 caida 0.0100365768994\n",
      "diámetro 7 caida 0.00860278019948\n"
     ]
    }
   ],
   "source": [
    "for d in diametros1:\n",
    "    hf = CaidaxMetroCañeria(1, d, 0.03) \n",
    "    print ('diámetro',d,'caida', hf)"
   ]
  },
  {
   "cell_type": "markdown",
   "metadata": {},
   "source": [
    "## Cambio Caida con la velocidad"
   ]
  },
  {
   "cell_type": "code",
   "execution_count": 126,
   "metadata": {
    "collapsed": false
   },
   "outputs": [
    {
     "data": {
      "text/plain": [
       "array([ 0.        ,  0.06021946,  0.24087785,  0.54197515,  0.96351138,\n",
       "        1.50548653,  2.16790061])"
      ]
     },
     "execution_count": 126,
     "metadata": {},
     "output_type": "execute_result"
    }
   ],
   "source": [
    "hf_vel = CaidaxMetroCañeria(velocidades1,diametrocte,fdconstantes)\n",
    "hf_vel"
   ]
  },
  {
   "cell_type": "code",
   "execution_count": 127,
   "metadata": {
    "collapsed": false
   },
   "outputs": [
    {
     "data": {
      "text/plain": [
       "[<matplotlib.lines.Line2D at 0x89427b8>]"
      ]
     },
     "execution_count": 127,
     "metadata": {},
     "output_type": "execute_result"
    },
    {
     "data": {
      "image/png": "[encoded data removed]",
      "text/plain": [
       "<matplotlib.figure.Figure at 0x888a5c0>"
      ]
     },
     "metadata": {},
     "output_type": "display_data"
    }
   ],
   "source": [
    "plt.plot(velocidades1,hf_vel)"
   ]
  },
  {
   "cell_type": "code",
   "execution_count": 128,
   "metadata": {
    "collapsed": false
   },
   "outputs": [
    {
     "name": "stdout",
     "output_type": "stream",
     "text": [
      "velocidad 0 caida 0.0\n",
      "velocidad 1 caida 0.0602194613963\n",
      "velocidad 2 caida 0.240877845585\n",
      "velocidad 3 caida 0.541975152567\n",
      "velocidad 4 caida 0.963511382341\n",
      "velocidad 5 caida 1.50548653491\n",
      "velocidad 6 caida 2.16790061027\n"
     ]
    }
   ],
   "source": [
    "for v in velocidades1:\n",
    "    hf = CaidaxMetroCañeria(v, 1, 0.03) \n",
    "    print ('velocidad',v,'caida', hf)"
   ]
  },
  {
   "cell_type": "markdown",
   "metadata": {},
   "source": [
    "## Cambio Caida con fd"
   ]
  },
  {
   "cell_type": "code",
   "execution_count": 129,
   "metadata": {
    "collapsed": false
   },
   "outputs": [
    {
     "data": {
      "text/plain": [
       "array([ 0.        ,  0.30109731,  0.60219461,  0.90329192,  1.20438923,\n",
       "        1.50548653,  1.80658384])"
      ]
     },
     "execution_count": 129,
     "metadata": {},
     "output_type": "execute_result"
    }
   ],
   "source": [
    "hf_fd = CaidaxMetroCañeria(velocidadcte,diametrocte,fdvariables)\n",
    "hf_fd"
   ]
  },
  {
   "cell_type": "code",
   "execution_count": 130,
   "metadata": {
    "collapsed": false
   },
   "outputs": [
    {
     "data": {
      "text/plain": [
       "[<matplotlib.lines.Line2D at 0x89cf7f0>]"
      ]
     },
     "execution_count": 130,
     "metadata": {},
     "output_type": "execute_result"
    },
    {
     "data": {
      "image/png": "[encoded data removed]",
      "text/plain": [
       "<matplotlib.figure.Figure at 0x85fee10>"
      ]
     },
     "metadata": {},
     "output_type": "display_data"
    }
   ],
   "source": [
    "plt.plot(fdvariables,hf_fd)"
   ]
  },
  {
   "cell_type": "code",
   "execution_count": 132,
   "metadata": {
    "collapsed": false
   },
   "outputs": [
    {
     "name": "stdout",
     "output_type": "stream",
     "text": [
      "fd 0.00 caida 0.00\n",
      "fd 0.15 caida 0.30\n",
      "fd 0.30 caida 0.60\n",
      "fd 0.45 caida 0.90\n",
      "fd 0.60 caida 1.20\n",
      "fd 0.75 caida 1.51\n",
      "fd 0.90 caida 1.81\n"
     ]
    }
   ],
   "source": [
    "for fd in fdvariables:\n",
    "    hf = CaidaxMetroCañeria(1, 1, fd) \n",
    "    print ('fd %.2f caida %.2f' %(fd, hf))"
   ]
  }
 ],
 "metadata": {
  "kernelspec": {
   "display_name": "Python 3",
   "language": "python",
   "name": "python3"
  },
  "language_info": {
   "codemirror_mode": {
    "name": "ipython",
    "version": 3
   },
   "file_extension": ".py",
   "mimetype": "text/x-python",
   "name": "python",
   "nbconvert_exporter": "python",
   "pygments_lexer": "ipython3",
   "version": "3.6.0"
  }
 },
 "nbformat": 4,
 "nbformat_minor": 2
}
