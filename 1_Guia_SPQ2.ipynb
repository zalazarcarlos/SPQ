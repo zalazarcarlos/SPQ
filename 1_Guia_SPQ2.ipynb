{
 "cells": [
  {
   "cell_type": "markdown",
   "metadata": {},
   "source": [
    "# Guía de Ejercicios Nº1\n",
    "\n",
    "## Ejercicios 2 con Onda Sinusoidal"
   ]
  },
  {
   "cell_type": "markdown",
   "metadata": {},
   "source": [
    "## Sobre Jupiter Notebook y Python:\n",
    "\n",
    "Esta presentación está escrita con lenguaje Python, utilizando Jupyter Notebook como contenedor. La versión .pdf es estática, pero la versión .ipnb es dinámica, por lo que se puede modificar y ver reflejados los cambios haciendo Control + Enter. \n",
    "La forma más fácil de instalar Python y Jupiter es mediante Anaconda\n",
    "https://www.continuum.io/downloads\n",
    "Pero existe un pip para usuarios de Python que no quieran instalar Anaconda\n",
    "http://jupyter.org/install.html"
   ]
  },
  {
   "cell_type": "markdown",
   "metadata": {},
   "source": [
    "Librería de gráficos y Numpy"
   ]
  },
  {
   "cell_type": "code",
   "execution_count": null,
   "metadata": {
    "collapsed": true
   },
   "outputs": [],
   "source": [
    "%matplotlib inline\n",
    "import matplotlib.pyplot as plt\n",
    "import numpy as np"
   ]
  },
  {
   "cell_type": "markdown",
   "metadata": {},
   "source": [
    "Este bloque de importación de librerias lo vamos a repetir en cada ejercicio, así pueden ejecutarse en forma independiente"
   ]
  },
  {
   "cell_type": "markdown",
   "metadata": {},
   "source": [
    "### 2. Crear una función __seno__ y simular los siguientes casos en planilla de cálculo, utilizando donde sea necesario funciones escalón y rampa"
   ]
  },
  {
   "cell_type": "markdown",
   "metadata": {},
   "source": [
    "#### Bloque de definición de función rampa y escalón:"
   ]
  },
  {
   "cell_type": "code",
   "execution_count": 9,
   "metadata": {
    "collapsed": true
   },
   "outputs": [],
   "source": [
    "def ESCALON (t0, A, t):\n",
    "    if t <= t0:\n",
    "        y = 0\n",
    "    else:\n",
    "        y = A\n",
    "    return y    \n",
    "\n",
    "def RAMPA (t0, pend, dt, t):\n",
    "    if t <= t0:\n",
    "        y = 0\n",
    "    elif t < t0 + dt:\n",
    "        y = pend * (t - t0)\n",
    "    else:\n",
    "        y = pend * dt\n",
    "    return y"
   ]
  },
  {
   "cell_type": "markdown",
   "metadata": {},
   "source": [
    "### Bloque de función Sinusoidal"
   ]
  },
  {
   "cell_type": "markdown",
   "metadata": {},
   "source": [
    "$ Función \\sin(x) \\quad Periodo = \\frac{2·\\pi}{x}$ \n",
    "\n",
    "Función de Seno con periodo como variable:\n",
    "\n",
    "$\\sin(\\frac{2·\\pi}{periodo})$\n",
    "\n",
    "Con amplitud:\n",
    "$A·\\sin(\\frac{2·\\pi}{periodo})$\n",
    "\n",
    "Dependiente de t e igual a 0 cuando t = t0\n",
    "$A·\\sin\\left(\\frac{2·\\pi}{periodo}·(t-t_0)\\right)$"
   ]
  },
  {
   "cell_type": "code",
   "execution_count": 12,
   "metadata": {
    "collapsed": false
   },
   "outputs": [],
   "source": [
    "from numpy import sin, pi\n",
    "\n",
    "def SENO (t0, periodo, A, dt, t):\n",
    "    if t <= t0:\n",
    "        SENO = 0\n",
    "    elif t <= t0 + dt:\n",
    "        SENO = A * sin(2*pi / periodo * (t - t0))\n",
    "    else:\n",
    "        SENO = 0\n",
    "    return SENO\n",
    "\n",
    "\n",
    "\"\"\" Función Seno definida para control en Excel:\n",
    "Public Function FuncionSeno2(t0, periodo, desfasaje, dt, t)\n",
    "    If t <= t0 Then\n",
    "        FuncionSeno2 = 0\n",
    "    ElseIf t < t0 + dt Then\n",
    "        FuncionSeno2 = Sin(2 * WorksheetFunction.Pi * 1 / periodo * (t - t0) + desfasaje)\n",
    "    Else\n",
    "        FuncionSeno2 = 0\n",
    "    End If\n",
    "End Function\"\"\";"
   ]
  },
  {
   "cell_type": "markdown",
   "metadata": {},
   "source": [
    "### Ejercicio 2. a"
   ]
  },
  {
   "cell_type": "code",
   "execution_count": null,
   "metadata": {
    "collapsed": false
   },
   "outputs": [],
   "source": [
    "#importación de librerías\n",
    "%matplotlib inline\n",
    "import matplotlib.pyplot as plt\n",
    "import numpy as np\n",
    "\n",
    "\n",
    "y0 = 4\n",
    "\n",
    "#Datos Seno\n",
    "t0 = 100\n",
    "periodo = 500\n",
    "A = 2\n",
    "dt = 1000     #para que la función no termine antes\n",
    "\n",
    "#iteración\n",
    "Y = []\n",
    "for t in range(0,1001,1):\n",
    "    y = y0 + SENO(t0, periodo, A, dt, t)\n",
    "    Y = np.append(Y, y)\n",
    "    \n",
    "    \n",
    "#gráfico\n",
    "plt.plot(range(0,1001,1), Y)\n",
    "   \n",
    "plt.xlim(xmin=0 , xmax=1000)\n",
    "plt.ylim(ymin=0, ymax=10);"
   ]
  },
  {
   "cell_type": "markdown",
   "metadata": {},
   "source": [
    "### Ejercicio 2. b"
   ]
  },
  {
   "cell_type": "code",
   "execution_count": null,
   "metadata": {
    "collapsed": false
   },
   "outputs": [],
   "source": [
    "#importación de librerías\n",
    "%matplotlib inline\n",
    "import matplotlib.pyplot as plt\n",
    "import numpy as np\n",
    "\n",
    "\n",
    "y0 = 5\n",
    "\n",
    "#Datos Seno\n",
    "t0 = 100\n",
    "periodo = 200\n",
    "A = 2\n",
    "dt = 1000\n",
    "\n",
    "#iteración\n",
    "Y = []\n",
    "for t in range(0,1001,1):\n",
    "    y = y0 + SENO(t0, periodo, A, dt, t)\n",
    "    Y = np.append(Y, y)\n",
    "    \n",
    "    \n",
    "#gráfico\n",
    "plt.plot(range(0,1001,1), Y)\n",
    "   \n",
    "plt.xlim(xmin=0 , xmax=1000)\n",
    "plt.ylim(ymin=0, ymax=10);"
   ]
  },
  {
   "cell_type": "markdown",
   "metadata": {},
   "source": [
    "### Ejercicio 2. c"
   ]
  },
  {
   "cell_type": "code",
   "execution_count": null,
   "metadata": {
    "collapsed": false
   },
   "outputs": [],
   "source": [
    "%matplotlib inline\n",
    "import matplotlib.pyplot as plt\n",
    "import numpy as np\n",
    "\n",
    "\n",
    "y0 = 5\n",
    "\n",
    "#Datos Seno\n",
    "t0 = 100\n",
    "periodo = 200\n",
    "A = 2\n",
    "dt = 1000\n",
    "\n",
    "#Datos Rampa\n",
    "t0_r = 100\n",
    "pend = 1/400\n",
    "dt_r = 1000\n",
    "\n",
    "#iteración\n",
    "Y = []\n",
    "for t in range(0,1001,1):\n",
    "    y = y0 + SENO(t0, periodo, A, dt, t) + RAMPA(t0_r, pend, dt_r, t)\n",
    "    Y = np.append(Y, y)\n",
    "    \n",
    "    \n",
    "#gráfico\n",
    "plt.plot(range(0,1001,1), Y)\n",
    "   \n",
    "plt.xlim(xmin=0 , xmax=1000)\n",
    "plt.ylim(ymin=0, ymax=10);"
   ]
  },
  {
   "cell_type": "markdown",
   "metadata": {},
   "source": [
    "### Ejercicio 2. d"
   ]
  },
  {
   "cell_type": "code",
   "execution_count": 8,
   "metadata": {
    "collapsed": false
   },
   "outputs": [
    {
     "data": {
      "image/png": "[encoded data removed]",
      "text/plain": [
       "<matplotlib.figure.Figure at 0x8480278>"
      ]
     },
     "metadata": {},
     "output_type": "display_data"
    }
   ],
   "source": [
    "%matplotlib inline\n",
    "import matplotlib.pyplot as plt\n",
    "import numpy as np\n",
    "\n",
    "\n",
    "y0 = 5\n",
    "\n",
    "#Datos Seno\n",
    "t0 = 100\n",
    "periodo = 1000\n",
    "A = 2\n",
    "dt = 500\n",
    "\n",
    "#iteración\n",
    "Y = []\n",
    "for t in range(0,1001,1):\n",
    "    y = y0 + SENO(t0, periodo, A, dt, t)\n",
    "    Y = np.append(Y, y)\n",
    "    \n",
    "    \n",
    "#gráfico\n",
    "plt.plot(range(0,1001,1), Y)\n",
    "   \n",
    "plt.xlim(xmin=0 , xmax=1000)\n",
    "plt.ylim(ymin=0, ymax=10);"
   ]
  },
  {
   "cell_type": "markdown",
   "metadata": {},
   "source": [
    "### Ejercicio 2. e"
   ]
  },
  {
   "cell_type": "code",
   "execution_count": 17,
   "metadata": {
    "collapsed": false
   },
   "outputs": [
    {
     "data": {
      "image/png": "[encoded data removed]",
      "text/plain": [
       "<matplotlib.figure.Figure at 0x8582f28>"
      ]
     },
     "metadata": {},
     "output_type": "display_data"
    }
   ],
   "source": [
    "%matplotlib inline\n",
    "import matplotlib.pyplot as plt\n",
    "import numpy as np\n",
    "\n",
    "\n",
    "y0 = 7\n",
    "\n",
    "#Datos Seno\n",
    "t0 = 100\n",
    "periodo = 1200\n",
    "A = -4\n",
    "dt = 300\n",
    "\n",
    "#Datos Escalón\n",
    "t0_e = 400\n",
    "A_e = -4\n",
    "\n",
    "#iteración\n",
    "Y = []\n",
    "for t in range(0,1001,1):\n",
    "    y = y0 + SENO(t0, periodo, A, dt, t) + ESCALON(t0_e, A_e, t)\n",
    "    Y = np.append(Y, y)\n",
    "    \n",
    "    \n",
    "#gráfico\n",
    "plt.plot(range(0,1001,1), Y)\n",
    "   \n",
    "plt.xlim(xmin=0 , xmax=1000)\n",
    "plt.ylim(ymin=0, ymax=10);"
   ]
  },
  {
   "cell_type": "markdown",
   "metadata": {},
   "source": [
    "### Ejercicio 2. f"
   ]
  },
  {
   "cell_type": "code",
   "execution_count": 22,
   "metadata": {
    "collapsed": false
   },
   "outputs": [
    {
     "data": {
      "image/png": "[encoded data removed]",
      "text/plain": [
       "<matplotlib.figure.Figure at 0x8565898>"
      ]
     },
     "metadata": {},
     "output_type": "display_data"
    }
   ],
   "source": [
    "%matplotlib inline\n",
    "import matplotlib.pyplot as plt\n",
    "import numpy as np\n",
    "\n",
    "\n",
    "y0 = 7\n",
    "\n",
    "#Datos Seno\n",
    "t0 = 100\n",
    "periodo = 1200\n",
    "A = -4\n",
    "dt = 300\n",
    "\n",
    "#Datos Escalón\n",
    "t0_e = 400\n",
    "A_e = -4\n",
    "\n",
    "#Datos Rampa\n",
    "t0_r = 600\n",
    "pend = 4/200\n",
    "dt_r = 200\n",
    "\n",
    "#iteración\n",
    "Y = []\n",
    "for t in range(0,1001,1):\n",
    "    y = y0 \\\n",
    "    + SENO(t0, periodo, A, dt, t) \\\n",
    "    + ESCALON(t0_e, A_e, t) \\\n",
    "    + RAMPA(t0_r, pend, dt_r, t)\n",
    "    Y = np.append(Y, y)\n",
    "    \n",
    "    \n",
    "#gráfico\n",
    "plt.plot(range(0,1001,1), Y)\n",
    "   \n",
    "plt.xlim(xmin=0 , xmax=1000)\n",
    "plt.ylim(ymin=0, ymax=10);"
   ]
  }
 ],
 "metadata": {
  "kernelspec": {
   "display_name": "Python 3",
   "language": "python",
   "name": "python3"
  },
  "language_info": {
   "codemirror_mode": {
    "name": "ipython",
    "version": 3
   },
   "file_extension": ".py",
   "mimetype": "text/x-python",
   "name": "python",
   "nbconvert_exporter": "python",
   "pygments_lexer": "ipython3",
   "version": "3.6.0"
  }
 },
 "nbformat": 4,
 "nbformat_minor": 2
}
