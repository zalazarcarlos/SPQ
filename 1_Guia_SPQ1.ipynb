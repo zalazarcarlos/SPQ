{
 "cells": [
  {
   "cell_type": "markdown",
   "metadata": {},
   "source": [
    "# Guía de Ejercicios Nº1\n",
    "\n",
    "## Objetivos\n",
    "* Combinar funciones sencillas para obtener funciones más complejas\n",
    "* Crear funciones"
   ]
  },
  {
   "cell_type": "markdown",
   "metadata": {},
   "source": [
    "## Sobre Jupiter Notebook y Python:\n",
    "\n",
    "Esta presentación está escrita con lenguaje Python, utilizando Jupyter Notebook como contenedor. La versión .pdf es estática, pero la versión .ipnb es dinámica, por lo que se puede modificar y ver reflejados los cambios haciendo Control + Enter. \n",
    "La forma más fácil de instalar Python y Jupiter es mediante Anaconda\n",
    "https://www.continuum.io/downloads\n",
    "Pero existe un pip para usuarios de Python que no quieran instalar Anaconda\n",
    "http://jupyter.org/install.html"
   ]
  },
  {
   "cell_type": "markdown",
   "metadata": {},
   "source": [
    "Importamos librería de gráficos y Numpy"
   ]
  },
  {
   "cell_type": "code",
   "execution_count": 2,
   "metadata": {
    "collapsed": false
   },
   "outputs": [],
   "source": [
    "%matplotlib inline\n",
    "import matplotlib.pyplot as plt\n",
    "import numpy as np"
   ]
  },
  {
   "cell_type": "markdown",
   "metadata": {},
   "source": [
    "### 1. Simular los casos de la *Guía de Ejercicios 1-1* combinando funciones __escalón__ y __rampa__ "
   ]
  },
  {
   "cell_type": "markdown",
   "metadata": {},
   "source": [
    "#### Bloque de definición de función rampa y escalón:"
   ]
  },
  {
   "cell_type": "code",
   "execution_count": 2,
   "metadata": {
    "collapsed": false
   },
   "outputs": [],
   "source": [
    "def ESCALON (t0, A, t):\n",
    "    if t <= t0:\n",
    "        y = 0\n",
    "    else:\n",
    "        y = A\n",
    "    return y    \n",
    "\n",
    "\"\"\"Función Escalón en Excel:\n",
    "Public Function ESCALON(t0, A, t)\n",
    "    If t <= t0 Then\n",
    "        ESCALON = 0\n",
    "    Else\n",
    "        ESCALON = A\n",
    "    End If\n",
    "End Function\"\"\"\n",
    "\n",
    "def RAMPA (t0, pend, dt, t):\n",
    "    if t <= t0:\n",
    "        y = 0\n",
    "    elif t < t0 + dt:\n",
    "        y = pend * (t - t0)\n",
    "    else:\n",
    "        y = pend * dt\n",
    "    return y\n",
    "\n",
    "\"\"\"Función Rampa en Excel\n",
    "Public Function RAMPA(t0, pend, dt, t)\n",
    "    If t <= t0 Then\n",
    "        RAMPA = 0\n",
    "    ElseIf t < t0 + dt Then\n",
    "        RAMPA = pend * (t - t0)\n",
    "    Else\n",
    "        RAMPA = pend * dt\n",
    "    End If\n",
    "End Function\n",
    "\"\"\"\n"
   ]
  },
  {
   "cell_type": "markdown",
   "metadata": {},
   "source": [
    "### Ejercicio 1. a"
   ]
  },
  {
   "cell_type": "code",
   "execution_count": 40,
   "metadata": {
    "collapsed": false
   },
   "outputs": [
    {
     "data": {
      "image/png": "[encoded data removed]",
      "text/plain": [
       "<matplotlib.figure.Figure at 0x9e160b8>"
      ]
     },
     "metadata": {},
     "output_type": "display_data"
    }
   ],
   "source": [
    "y0 = 2\n",
    "\n",
    "#Datos Escalón\n",
    "t0_e = 100\n",
    "A = 5\n",
    "\n",
    "#Datos Rampa\n",
    "t0_r = 200\n",
    "pendiente = -3/400\n",
    "dt = 400\n",
    "\n",
    "#iteración:\n",
    "Y = []\n",
    "for t in range(0,1001,1):\n",
    "    y = y0 + ESCALON(t0_e, A, t) + RAMPA(t0_r, pendiente, dt, t)\n",
    "    Y = np.append(Y, y)\n",
    "\n",
    "\n",
    "#set de gráfico:\n",
    "fig, ax = plt.subplots(figsize=(8, 4))\n",
    "ax.grid(True)\n",
    "ax.set_xlim(0,1000)\n",
    "ax.set_ylim(0,10)\n",
    "ax.set_xticks(range(0,1100,100))\n",
    "ax.set_yticks(range(0,11,1))\n",
    "ax.set_xlabel(\"Tiempo (seg)\")\n",
    "ax.set_ylabel(\"Y\")\n",
    "\n",
    "#gráfico: \n",
    "ax.plot(range(0,1001,1), Y);\n",
    "\n"
   ]
  },
  {
   "cell_type": "markdown",
   "metadata": {},
   "source": [
    "El seteo de este gráfico tiene varias lineas, a fin de igualar al gráfico de excel. Para los próximos ejemplos será mas simple. "
   ]
  },
  {
   "cell_type": "markdown",
   "metadata": {},
   "source": [
    "### Ejercicio 1. b"
   ]
  },
  {
   "cell_type": "code",
   "execution_count": 37,
   "metadata": {
    "collapsed": false
   },
   "outputs": [
    {
     "data": {
      "image/png": "[encoded data removed]",
      "text/plain": [
       "<matplotlib.figure.Figure at 0x6bdb5c0>"
      ]
     },
     "metadata": {},
     "output_type": "display_data"
    }
   ],
   "source": [
    "y0 = 2\n",
    "\n",
    "#Datos Escalón\n",
    "t0_e = 100\n",
    "A = 2\n",
    "\n",
    "#Datos Rampa\n",
    "t0_r = 300\n",
    "pendiente = 3/300\n",
    "dt = 300\n",
    "\n",
    "Y = []\n",
    "for t in range(0,1001,1):\n",
    "    y = y0 + ESCALON(t0_e, A, t) + RAMPA(t0_r, pendiente, dt, t)\n",
    "    Y = np.append(Y, y)\n",
    "  \n",
    "\n",
    "\n",
    "plt.plot(range(0,1001,1), Y)\n",
    "   \n",
    "plt.xlim(xmin=0 , xmax=1000)\n",
    "plt.ylim(ymin=0, ymax=10);"
   ]
  },
  {
   "cell_type": "markdown",
   "metadata": {},
   "source": [
    "### Ejercicio 1. c"
   ]
  },
  {
   "cell_type": "code",
   "execution_count": 10,
   "metadata": {
    "collapsed": false
   },
   "outputs": [
    {
     "data": {
      "image/png": "[encoded data removed]",
      "text/plain": [
       "<matplotlib.figure.Figure at 0x88ad668>"
      ]
     },
     "metadata": {},
     "output_type": "display_data"
    }
   ],
   "source": [
    "y0 = 3\n",
    "\n",
    "#Datos Rampa1\n",
    "t0_r1 = 200\n",
    "pend1 = 4/200\n",
    "dt1 = 200\n",
    "\n",
    "#Datos Rampa2\n",
    "t0_r2 = 400\n",
    "pend2 = -2/200\n",
    "dt2 = 200\n",
    "\n",
    "Y = []\n",
    "for t in range(0,1001,1):\n",
    "    y = y0 + RAMPA(t0_r1, pend1, dt1, t) + RAMPA(t0_r2, pend2, dt2, t)\n",
    "    Y = np.append(Y, y)\n",
    "\n",
    "    \n",
    "plt.plot(range(0,1001,1), Y)\n",
    "\n",
    "plt.xlim(xmin=0 , xmax=1000)\n",
    "plt.ylim(ymin=0, ymax=10);"
   ]
  },
  {
   "cell_type": "markdown",
   "metadata": {},
   "source": [
    "### Ejercicio 1. c"
   ]
  },
  {
   "cell_type": "code",
   "execution_count": 11,
   "metadata": {
    "collapsed": false
   },
   "outputs": [
    {
     "data": {
      "image/png": "[encoded data removed]",
      "text/plain": [
       "<matplotlib.figure.Figure at 0x4ef6048>"
      ]
     },
     "metadata": {},
     "output_type": "display_data"
    }
   ],
   "source": [
    "y0 = 6\n",
    "\n",
    "#Datos Escalón\n",
    "t0_e = 600\n",
    "A = 6\n",
    "\n",
    "#Datos Rampa\n",
    "t0_r = 200\n",
    "pendiente = -4/400\n",
    "dt = 400\n",
    "\n",
    "Y = []\n",
    "for t in range(0,1001,1):\n",
    "    y = y0 + ESCALON(t0_e, A, t) + RAMPA(t0_r, pendiente, dt, t)\n",
    "    Y = np.append(Y, y)\n",
    "\n",
    "    \n",
    "plt.plot(range(0,1001,1), Y)\n",
    "\n",
    "plt.xlim(xmin=0 , xmax=1000)\n",
    "plt.ylim(ymin=0, ymax=10);"
   ]
  },
  {
   "cell_type": "markdown",
   "metadata": {},
   "source": [
    "### Ejercicio 1. e"
   ]
  },
  {
   "cell_type": "code",
   "execution_count": 12,
   "metadata": {
    "collapsed": false
   },
   "outputs": [
    {
     "data": {
      "image/png": "[encoded data removed]",
      "text/plain": [
       "<matplotlib.figure.Figure at 0x8969630>"
      ]
     },
     "metadata": {},
     "output_type": "display_data"
    }
   ],
   "source": [
    "y0 = 6\n",
    "\n",
    "#Datos Escalón1\n",
    "t0_e1 = 100\n",
    "A1 = 2\n",
    "\n",
    "#Datos Escalón2\n",
    "t0_e2 = 400\n",
    "A2 = 1\n",
    "\n",
    "#Datos Escalón3\n",
    "t0_e3 = 600\n",
    "A3 = -5\n",
    "\n",
    "Y = []\n",
    "for t in range(0,1001,1):\n",
    "    y = y0 \\\n",
    "    + ESCALON(t0_e1, A1, t) \\\n",
    "    + ESCALON(t0_e2, A2, t) \\\n",
    "    + ESCALON(t0_e3, A3, t) \n",
    "    Y = np.append(Y, y)\n",
    "\n",
    "    \n",
    "plt.plot(range(0,1001,1), Y)\n",
    "\n",
    "plt.xlim(xmin=0 , xmax=1000)\n",
    "plt.ylim(ymin=0, ymax=10);"
   ]
  },
  {
   "cell_type": "markdown",
   "metadata": {},
   "source": [
    "### Ejercicio 1. f"
   ]
  },
  {
   "cell_type": "code",
   "execution_count": 13,
   "metadata": {
    "collapsed": false
   },
   "outputs": [
    {
     "data": {
      "image/png": "[encoded data removed]",
      "text/plain": [
       "<matplotlib.figure.Figure at 0x89d5470>"
      ]
     },
     "metadata": {},
     "output_type": "display_data"
    }
   ],
   "source": [
    "y0 = 6\n",
    "\n",
    "#Datos Rampa1\n",
    "t0_r1 = 200\n",
    "pend1 = -4/200\n",
    "dt1 = 200\n",
    "\n",
    "#Datos Escalón\n",
    "t0_e = 400\n",
    "A = 6\n",
    "\n",
    "#Datos Rampa2\n",
    "t0_r2 = 400\n",
    "pend2 = -4/400\n",
    "dt2 = 400\n",
    "\n",
    "Y = []\n",
    "for t in range(0,1001,1):\n",
    "    y = y0 \\\n",
    "    + RAMPA(t0_r1, pend1, dt1, t)\\\n",
    "    + ESCALON(t0_e, A, t) \\\n",
    "    + RAMPA(t0_r2, pend2, dt2, t)\n",
    "    Y = np.append(Y, y)\n",
    "\n",
    "    \n",
    "plt.plot(range(0,1001,1), Y)\n",
    "\n",
    "plt.xlim(xmin=0 , xmax=1000)\n",
    "plt.ylim(ymin=0, ymax=10);"
   ]
  },
  {
   "cell_type": "markdown",
   "metadata": {},
   "source": [
    "### Ejercicio 1. g"
   ]
  },
  {
   "cell_type": "code",
   "execution_count": 14,
   "metadata": {
    "collapsed": false
   },
   "outputs": [
    {
     "data": {
      "image/png": "[encoded data removed]",
      "text/plain": [
       "<matplotlib.figure.Figure at 0x825b080>"
      ]
     },
     "metadata": {},
     "output_type": "display_data"
    }
   ],
   "source": [
    "y0 = 2\n",
    "\n",
    "#Datos Rampa1\n",
    "t0_r1 = 100\n",
    "pend1 = 3/300\n",
    "dt1 = 300\n",
    "\n",
    "#Datos Escalón1\n",
    "t0_e1 = 400\n",
    "A1 = 2\n",
    "\n",
    "#Datos Rampa2\n",
    "t0_r2 = 400\n",
    "pend2 = 2/200\n",
    "dt2 = 200\n",
    "\n",
    "#Datos Escalón2\n",
    "t0_e2 = 600\n",
    "A2 = -7\n",
    "\n",
    "#Datos Rampa3\n",
    "t0_r3 = 600\n",
    "pend3 = 3/300\n",
    "dt3 = 300\n",
    "\n",
    "Y = []\n",
    "for t in range(0,1001,1):\n",
    "    y = y0 \\\n",
    "    + RAMPA(t0_r1, pend1, dt1, t)\\\n",
    "    + ESCALON(t0_e1, A1, t)\\\n",
    "    + RAMPA(t0_r2, pend2, dt2, t)\\\n",
    "    + ESCALON(t0_e2, A2, t)\\\n",
    "    + RAMPA(t0_r3, pend3, dt3, t)\n",
    "    Y = np.append(Y, y)\n",
    "\n",
    "    \n",
    "plt.plot(range(0,1001,1), Y)\n",
    "\n",
    "plt.xlim(xmin=0 , xmax=1000)\n",
    "plt.ylim(ymin=0, ymax=10);"
   ]
  }
 ],
 "metadata": {
  "kernelspec": {
   "display_name": "Python 3",
   "language": "python",
   "name": "python3"
  },
  "language_info": {
   "codemirror_mode": {
    "name": "ipython",
    "version": 3
   },
   "file_extension": ".py",
   "mimetype": "text/x-python",
   "name": "python",
   "nbconvert_exporter": "python",
   "pygments_lexer": "ipython3",
   "version": "3.6.0"
  }
 },
 "nbformat": 4,
 "nbformat_minor": 2
}
