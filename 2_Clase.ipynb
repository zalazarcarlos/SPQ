{
 "cells": [
  {
   "cell_type": "code",
   "execution_count": 61,
   "metadata": {
    "collapsed": false
   },
   "outputs": [
    {
     "data": {
      "text/plain": [
       "<matplotlib.legend.Legend at 0x187c76d8>"
      ]
     },
     "execution_count": 61,
     "metadata": {},
     "output_type": "execute_result"
    },
    {
     "data": {
      "image/png": "[encoded data removed]",
      "text/plain": [
       "<matplotlib.figure.Figure at 0x19613080>"
      ]
     },
     "metadata": {},
     "output_type": "display_data"
    }
   ],
   "source": [
    "%matplotlib inline\n",
    "import matplotlib.pyplot as plt\n",
    "from matplotlib import style\n",
    "style.use('fivethirtyeight')\n",
    "import numpy as np\n",
    "import pandas as pd\n",
    "from SPQentrada import *\n",
    "\n",
    "#Datos iniciales\n",
    "p1 = 2\n",
    "p2 = 1\n",
    "d_in = 1 \n",
    "L = 50\n",
    "dt = 2\n",
    "fd = 0.03\n",
    "rho = 1000  #kg/m3\n",
    "\n",
    "#conversión automática de datos\n",
    "d_m = d_in * 0.0254\n",
    "area = np.pi * d_m**2 / 4\n",
    "cte_raiz = 2 * d_m / (rho * L)\n",
    "\n",
    "#Datos Escalon P1\n",
    "t0_e1= 500\n",
    "A_e1 = 1\n",
    "\n",
    "#Datos Escalon P2\n",
    "t0_e2= 500\n",
    "A_e2 = 0\n",
    "\n",
    "#Datos Rampa P1\n",
    "t0_r1 = 500\n",
    "pend1 = 0\n",
    "dt1 = 500\n",
    "\n",
    "#Datos Rampa P2\n",
    "t0_r2 = 500\n",
    "pend2 = 0.001\n",
    "dt2 = 500\n",
    "\n",
    "#Datos ExpDecreciente P1\n",
    "t0_exd1 = 500\n",
    "tau1 = 100\n",
    "A_exd1 = 0\n",
    "\n",
    "#Datos ExpDecreciente P2\n",
    "t0_exd2 = 500\n",
    "tau2 = 100\n",
    "A_exd2 = 0\n",
    "\n",
    "T = []\n",
    "P1 = []\n",
    "P2 = []\n",
    "V = []\n",
    "F = []\n",
    "\n",
    "for i in range(0,1001,1):\n",
    "    t = i * dt\n",
    "    T = np.append(T, t)\n",
    "    p1t = p1 \\\n",
    "    + ESCALON(t0_e1, A_e1, t)\\\n",
    "    + RAMPA(t0_r1, pend1, dt1, t)\\\n",
    "    + ExpDecr(t0_exd1, tau1, A_exd1, t)\n",
    "    P1 = np.append(P1, p1t)\n",
    "    \n",
    "    p2t = p2 \\\n",
    "    + ESCALON(t0_e2, A_e2, t)\\\n",
    "    + RAMPA(t0_r2, pend2, dt2, t)\\\n",
    "    + ExpDecr(t0_exd2, tau2, A_exd2, t)\n",
    "    P2 = np.append(P2, p2t)\n",
    "    \n",
    "    p1_pascal = p1t * 100000\n",
    "    p2_pascal = p2t * 100000\n",
    "    \n",
    "    v = np.sqrt(cte_raiz / fd * (p1_pascal - p2_pascal))\n",
    "    V = np.append(V, v)\n",
    "    \n",
    "    f = v * area\n",
    "    F = np. append(F, f)\n",
    "\n",
    "F_m3h= F * 3600\n",
    "\n",
    "#creacion de tabla df para pandas:\n",
    "valores = {'tiempo_s':T,\n",
    "           'p1_bar':P1, 'p2_bar':P2,\n",
    "           'velc_m/s':V,\n",
    "           'F_m3/s':F, 'F_m3/h':F_m3h}\n",
    "columnas = ['tiempo_s', 'p1_bar', 'p2_bar', 'velc_m/s', 'F_m3/s', 'F_m3/h']\n",
    "df = pd.DataFrame(valores, columns=columnas)\n",
    "\n",
    "#gráficos\n",
    "fig, ax1 = plt.subplots()\n",
    "\n",
    "ax1.plot(T, P1, label=\"P1\")\n",
    "ax1.plot(T, P2, label=\"P2\")\n",
    "ax1.set_xlabel('$Tiempo (s)$')\n",
    "ax1.set_ylabel('$Presión (bar)$')\n",
    "\n",
    "ax2 = ax1.twinx()\n",
    "ax2.plot(T, F_m3h, 'g-')\n",
    "ax2.set_ylabel('$F (m^3/h)$', color='g')\n",
    "ax2.tick_params('y', colors='g')\n",
    "\n",
    "#limites en y (Corrección de escala)\n",
    "ax1.set_ylim(0, 4)\n",
    "ax2.set_ylim(1, 7)\n",
    "ax1.legend()\n"
   ]
  },
  {
   "cell_type": "code",
   "execution_count": 49,
   "metadata": {
    "collapsed": false
   },
   "outputs": [
    {
     "data": {
      "text/html": [
       "<div>\n",
       "<table border=\"1\" class=\"dataframe\">\n",
       "  <thead>\n",
       "    <tr style=\"text-align: right;\">\n",
       "      <th></th>\n",
       "      <th>tiempo_s</th>\n",
       "      <th>p1_bar</th>\n",
       "      <th>p2_bar</th>\n",
       "      <th>velc_m/s</th>\n",
       "      <th>F_m3/s</th>\n",
       "      <th>F_m3/h</th>\n",
       "    </tr>\n",
       "  </thead>\n",
       "  <tbody>\n",
       "    <tr>\n",
       "      <th>225</th>\n",
       "      <td>450.0</td>\n",
       "      <td>2.0</td>\n",
       "      <td>1.0</td>\n",
       "      <td>1.840290</td>\n",
       "      <td>0.000932</td>\n",
       "      <td>3.356959</td>\n",
       "    </tr>\n",
       "    <tr>\n",
       "      <th>300</th>\n",
       "      <td>600.0</td>\n",
       "      <td>3.0</td>\n",
       "      <td>1.1</td>\n",
       "      <td>2.536664</td>\n",
       "      <td>0.001285</td>\n",
       "      <td>4.627249</td>\n",
       "    </tr>\n",
       "    <tr>\n",
       "      <th>500</th>\n",
       "      <td>1000.0</td>\n",
       "      <td>3.0</td>\n",
       "      <td>1.5</td>\n",
       "      <td>2.253886</td>\n",
       "      <td>0.001142</td>\n",
       "      <td>4.111418</td>\n",
       "    </tr>\n",
       "  </tbody>\n",
       "</table>\n",
       "</div>"
      ],
      "text/plain": [
       "     tiempo_s  p1_bar  p2_bar  velc_m/s    F_m3/s    F_m3/h\n",
       "225     450.0     2.0     1.0  1.840290  0.000932  3.356959\n",
       "300     600.0     3.0     1.1  2.536664  0.001285  4.627249\n",
       "500    1000.0     3.0     1.5  2.253886  0.001142  4.111418"
      ]
     },
     "execution_count": 49,
     "metadata": {},
     "output_type": "execute_result"
    }
   ],
   "source": [
    "df[(df.tiempo_s == 450) | (df.tiempo_s == 600) | (df.tiempo_s == 1000)]"
   ]
  },
  {
   "cell_type": "markdown",
   "metadata": {},
   "source": [
    "Buscar un valor específico"
   ]
  },
  {
   "cell_type": "code",
   "execution_count": 50,
   "metadata": {
    "collapsed": false
   },
   "outputs": [
    {
     "data": {
      "text/html": [
       "<div>\n",
       "<table border=\"1\" class=\"dataframe\">\n",
       "  <thead>\n",
       "    <tr style=\"text-align: right;\">\n",
       "      <th></th>\n",
       "      <th>tiempo_s</th>\n",
       "      <th>p1_bar</th>\n",
       "      <th>p2_bar</th>\n",
       "      <th>velc_m/s</th>\n",
       "      <th>F_m3/s</th>\n",
       "      <th>F_m3/h</th>\n",
       "    </tr>\n",
       "  </thead>\n",
       "  <tbody>\n",
       "    <tr>\n",
       "      <th>75</th>\n",
       "      <td>150.0</td>\n",
       "      <td>2.0</td>\n",
       "      <td>1.0</td>\n",
       "      <td>1.84029</td>\n",
       "      <td>0.000932</td>\n",
       "      <td>3.356959</td>\n",
       "    </tr>\n",
       "  </tbody>\n",
       "</table>\n",
       "</div>"
      ],
      "text/plain": [
       "    tiempo_s  p1_bar  p2_bar  velc_m/s    F_m3/s    F_m3/h\n",
       "75     150.0     2.0     1.0   1.84029  0.000932  3.356959"
      ]
     },
     "execution_count": 50,
     "metadata": {},
     "output_type": "execute_result"
    }
   ],
   "source": [
    "valor_buscado = 150\n",
    "df[df.tiempo_s == valor_buscado]"
   ]
  },
  {
   "cell_type": "code",
   "execution_count": null,
   "metadata": {
    "collapsed": true
   },
   "outputs": [],
   "source": []
  }
 ],
 "metadata": {
  "kernelspec": {
   "display_name": "Python 3",
   "language": "python",
   "name": "python3"
  },
  "language_info": {
   "codemirror_mode": {
    "name": "ipython",
    "version": 3
   },
   "file_extension": ".py",
   "mimetype": "text/x-python",
   "name": "python",
   "nbconvert_exporter": "python",
   "pygments_lexer": "ipython3",
   "version": "3.6.0"
  }
 },
 "nbformat": 4,
 "nbformat_minor": 2
}
